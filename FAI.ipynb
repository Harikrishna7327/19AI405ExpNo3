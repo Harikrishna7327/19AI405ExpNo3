{
  "nbformat": 4,
  "nbformat_minor": 0,
  "metadata": {
    "colab": {
      "provenance": []
    },
    "kernelspec": {
      "name": "python3",
      "display_name": "Python 3"
    },
    "language_info": {
      "name": "python"
    }
  },
  "cells": [
    {
      "cell_type": "code",
      "execution_count": 1,
      "metadata": {
        "colab": {
          "base_uri": "https://localhost:8080/"
        },
        "id": "YJ7yURTiX8mw",
        "outputId": "9803f229-b2a3-4d0a-e250-4b902f4ea69e"
      },
      "outputs": [
        {
          "output_type": "stream",
          "name": "stdout",
          "text": [
            "7 9\n",
            "A B\n",
            "A C\n",
            "A F\n",
            "C E\n",
            "C F\n",
            "C D\n",
            "D E\n",
            "D G\n",
            "G F\n",
            "['A', 'B', 'C', 'F', 'E', 'D', 'G']\n"
          ]
        }
      ],
      "source": [
        "\n",
        "from collections import deque\n",
        "from collections import defaultdict\n",
        "\n",
        "def bfs(graph,start,visited,path):\n",
        "    queue = deque()\n",
        "    path.append(start)\n",
        "    queue.append(start)\n",
        "    visited[start] = True\n",
        "    while len(queue) != 0:\n",
        "        tmpnode = queue.popleft()\n",
        "        for neighbour in graph[tmpnode]:\n",
        "            if visited[neighbour] == False:\n",
        "                path.append(neighbour)\n",
        "                queue.append(neighbour)\n",
        "                visited[neighbour] = True\n",
        "    return path\n",
        "\n",
        "graph = defaultdict(list)\n",
        "v,e = map(int,input().split())\n",
        "for i in range(e):\n",
        "    u,v = map(str,input().split())\n",
        "    graph[u].append(v)\n",
        "    graph[v].append(u)\n",
        "\n",
        "start = 'A'\n",
        "path = []\n",
        "visited = defaultdict(bool)\n",
        "traversedpath = bfs(graph,start,visited,path)\n",
        "print(traversedpath)\n"
      ]
    },
    {
      "cell_type": "code",
      "source": [
        "from collections import deque\n",
        "from collections import defaultdict\n",
        "\n",
        "def bfs(graph,start,visited,path):\n",
        "    queue = deque()\n",
        "    path.append(start)\n",
        "    queue.append(start)\n",
        "    visited[start] = True\n",
        "    while len(queue) != 0:\n",
        "        tmpnode = queue.popleft()\n",
        "        for neighbour in graph[tmpnode]:\n",
        "            if visited[neighbour] == False:\n",
        "                path.append(neighbour)\n",
        "                queue.append(neighbour)\n",
        "                visited[neighbour] = True\n",
        "    return path\n",
        "\n",
        "graph = defaultdict(list)\n",
        "v,e = map(int,input().split())\n",
        "for i in range(e):\n",
        "    u,v = map(str,input().split())\n",
        "    graph[u].append(v)\n",
        "    graph[v].append(u)\n",
        "\n",
        "start = '0'\n",
        "path = []\n",
        "visited = defaultdict(bool)\n",
        "traversedpath = bfs(graph,start,visited,path)\n",
        "print(traversedpath)"
      ],
      "metadata": {
        "colab": {
          "base_uri": "https://localhost:8080/"
        },
        "id": "BoBQoDpxY3Js",
        "outputId": "6d167316-1357-47ef-d023-5156fe020721"
      },
      "execution_count": 2,
      "outputs": [
        {
          "output_type": "stream",
          "name": "stdout",
          "text": [
            "5 6\n",
            "0 1\n",
            "0 2\n",
            "1 2\n",
            "1 3\n",
            "2 4\n",
            "3 4\n",
            "['0', '1', '2', '3', '4']\n"
          ]
        }
      ]
    }
  ]
}